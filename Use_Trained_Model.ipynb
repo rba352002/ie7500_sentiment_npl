{
 "cells": [
  {
   "cell_type": "markdown",
   "id": "fb0a28f9-a9d0-44de-b0d2-dd660fc81b29",
   "metadata": {},
   "source": [
    "# Use Trained DistilBERT Model"
   ]
  },
  {
   "cell_type": "code",
   "execution_count": 1,
   "id": "9892df93-205d-4010-8516-19eb46d6f420",
   "metadata": {},
   "outputs": [],
   "source": [
    "import warnings\n",
    "\n",
    "warnings.filterwarnings(\"ignore\")"
   ]
  },
  {
   "cell_type": "code",
   "execution_count": 2,
   "id": "976855f4-ba87-424c-8c4f-92a20f171e48",
   "metadata": {},
   "outputs": [
    {
     "name": "stderr",
     "output_type": "stream",
     "text": [
      "2025-07-04 16:32:42.530093: E external/local_xla/xla/stream_executor/cuda/cuda_fft.cc:467] Unable to register cuFFT factory: Attempting to register factory for plugin cuFFT when one has already been registered\n",
      "WARNING: All log messages before absl::InitializeLog() is called are written to STDERR\n",
      "E0000 00:00:1751661162.550466 1013504 cuda_dnn.cc:8579] Unable to register cuDNN factory: Attempting to register factory for plugin cuDNN when one has already been registered\n",
      "E0000 00:00:1751661162.556827 1013504 cuda_blas.cc:1407] Unable to register cuBLAS factory: Attempting to register factory for plugin cuBLAS when one has already been registered\n",
      "W0000 00:00:1751661162.572445 1013504 computation_placer.cc:177] computation placer already registered. Please check linkage and avoid linking the same target more than once.\n",
      "W0000 00:00:1751661162.572461 1013504 computation_placer.cc:177] computation placer already registered. Please check linkage and avoid linking the same target more than once.\n",
      "W0000 00:00:1751661162.572463 1013504 computation_placer.cc:177] computation placer already registered. Please check linkage and avoid linking the same target more than once.\n",
      "W0000 00:00:1751661162.572465 1013504 computation_placer.cc:177] computation placer already registered. Please check linkage and avoid linking the same target more than once.\n",
      "2025-07-04 16:32:42.577415: I tensorflow/core/platform/cpu_feature_guard.cc:210] This TensorFlow binary is optimized to use available CPU instructions in performance-critical operations.\n",
      "To enable the following instructions: AVX2 FMA, in other operations, rebuild TensorFlow with the appropriate compiler flags.\n"
     ]
    }
   ],
   "source": [
    "from transformers import pipeline"
   ]
  },
  {
   "cell_type": "markdown",
   "id": "ba8fbc20-331a-4d15-ab20-f401b4d1d89b",
   "metadata": {},
   "source": [
    "### Input two movie review"
   ]
  },
  {
   "cell_type": "code",
   "execution_count": 3,
   "id": "d8bc3d40-8ead-4b1c-891a-a5a1e3e6d67e",
   "metadata": {},
   "outputs": [],
   "source": [
    "review1= \"That was the best movie I have ever seen!\"\n",
    "review2= \"I didn't like the movie very much\""
   ]
  },
  {
   "cell_type": "markdown",
   "id": "6971fbca-3b4a-4a80-b56f-1f2e66ff3d38",
   "metadata": {},
   "source": [
    "### Import Trained Model and Evaluate the Two Reviews\n",
    "\n",
    "#### 'Label_1' is positive\n",
    "#### 'Label_0' is negative\n",
    "#### 'score' is the models confidence in the label"
   ]
  },
  {
   "cell_type": "code",
   "execution_count": 4,
   "id": "8d37421b-b395-486b-92a0-4de57c5e0396",
   "metadata": {},
   "outputs": [
    {
     "name": "stderr",
     "output_type": "stream",
     "text": [
      "Device set to use cuda:0\n"
     ]
    },
    {
     "data": {
      "text/plain": [
       "[{'label': 'LABEL_1', 'score': 0.9947195053100586},\n",
       " {'label': 'LABEL_0', 'score': 0.9466610550880432}]"
      ]
     },
     "execution_count": 4,
     "metadata": {},
     "output_type": "execute_result"
    }
   ],
   "source": [
    "sentiment_model = pipeline( \"sentiment-analysis\", model=\"rba352002/DistilBERT_model_Sentiment_Analysis\")\n",
    "sentiment_model([review1, review2])"
   ]
  },
  {
   "cell_type": "code",
   "execution_count": null,
   "id": "9287cbf2-e203-4520-ac1b-53152501954f",
   "metadata": {},
   "outputs": [],
   "source": []
  }
 ],
 "metadata": {
  "kernelspec": {
   "display_name": "Python 3 (ipykernel)",
   "language": "python",
   "name": "python3"
  },
  "language_info": {
   "codemirror_mode": {
    "name": "ipython",
    "version": 3
   },
   "file_extension": ".py",
   "mimetype": "text/x-python",
   "name": "python",
   "nbconvert_exporter": "python",
   "pygments_lexer": "ipython3",
   "version": "3.12.4"
  }
 },
 "nbformat": 4,
 "nbformat_minor": 5
}
